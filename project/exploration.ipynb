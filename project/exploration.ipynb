{
 "cells": [
  {
   "cell_type": "markdown",
   "id": "fcd75454-2fe5-4f76-bc1b-b12bd00a25cb",
   "metadata": {},
   "source": [
    "# Report:"
   ]
  },
  {
   "cell_type": "markdown",
   "id": "f8fa688b-bc09-4787-8cfd-461e8b50e12e",
   "metadata": {},
   "source": [
    "## Introduction"
   ]
  },
  {
   "cell_type": "markdown",
   "id": "4f743511-29b6-49aa-a989-b1eaacb50125",
   "metadata": {},
   "source": [
    "## Import Packages"
   ]
  },
  {
   "cell_type": "code",
   "execution_count": 1,
   "id": "2268ae96-0b71-47aa-a4ff-4b01e5f92bf9",
   "metadata": {},
   "outputs": [],
   "source": [
    "import os\n",
    "# import geopandas as gpd\n",
    "import matplotlib.pyplot as plt\n",
    "import numpy as np\n",
    "from numpy.polynomial.polynomial import polyfit\n",
    "import pandas as pd\n",
    "from scipy.stats import pearsonr\n",
    "from sqlalchemy import create_engine"
   ]
  },
  {
   "cell_type": "markdown",
   "id": "66d8934b-ddd0-4616-8f5a-818f60b44788",
   "metadata": {},
   "source": [
    "# Method"
   ]
  },
  {
   "cell_type": "markdown",
   "id": "ffef2098-883e-49c8-949d-84cc3b5495f6",
   "metadata": {},
   "source": [
    "### Datasource1: Vegetables: Yield and cultivated area per kind (type) of vegetable\n",
    "* Metadata URL: https://opendata.cbs.nl/ODataApi/OData/37738ENG/$metadata#Cbs.OData.WebAPI.UntypedDataSet&$select=Vegetables,%20Periodes,%20GrossYield_1 \n",
    "* Data URL:  https://opendata.cbs.nl/statline/#/CBS/en/dataset/37738ENG/table\n",
    "* CSV Downloadable URL: https://opendata.cbs.nl/CsvDownload/csv/37738ENG/TypedDataSet?dl=9ADD1\n",
    "* Data Type: CSV\n",
    "\n",
    "\n",
    "This dataset contains information about the harvest of vegetables in the european countryNetherlands.\n",
    "It concerns the harvest of vegetables (total yield in million-kg) and the corresponding cropping area (in hectares).\n",
    "\n",
    "Gross yield = The yield of vegetables, in million kg..\n",
    "\n",
    "Cropping area = The total cropping area is basically equal to the sown area per year.\n",
    "\n",
    "The vegetables are broken down as follows:\n",
    "- strawberries\n",
    "- leaf and stem vegetables: endive; asparagus; fennel; leeks; celery; lettuce (iceberg, leaf and other); spinach.\n",
    "- mushrooms\n",
    "- tuberous and root vegetables: bunched and washed carrots; celeriac; beetroot; radish; scorzonera; onions; winter carrots\n",
    "- kinds of cabbage: cauliflower; kale; broccoli; Chinese cabbage; green cabbage; red cabbage; conical cabbage; sprouts; white cabbage\n",
    "- legumes: peas; French beans; broad beans\n",
    "- fruit eaten as vegetables: eggplant; courgette; cucumber; pepper; tomato\n",
    "- other vegetables\n",
    "\n",
    "### Datasource2: Environmental accounts; emissions to water 1995 to 2014\n",
    "* Metadata URL: https://opendata.cbs.nl/ODataApi/OData/83605ENG/$metadata#Cbs.OData.WebAPI.UntypedDataSet&$select=OriginDestination,%20Periods,%20ChromicCompoundsLikeCr_4,%20CopperCompoundsLikeCu_5,%20MercuryCompoundsLikeHg_6,%20LeadCompoundsLikePb_7,%20NickelCompoundsLikeNi_8,%20ZincCompoundsLikeZn_9,%20TotalNutrientsInEquivalents_10,%20PhosphorusCompoundsLikeP_11 \n",
    "* Data URL: https://opendata.cbs.nl/statline/#/CBS/en/dataset/83605ENG/table?ts=1698675109480\n",
    "* CSV Downloadable URL: https://opendata.cbs.nl/CsvDownload/csv/83605ENG/TypedDataSet?dl=9ADCA  \n",
    "* Data Type: CSV\n",
    "\n",
    "This datset provided information about the origin of emissions to water of nutrients and heavy metals into water. These data are part of the environmental accounts. Direct emissions are emitted directly into the environment. Indirect emissions reach the environment in an indirect way. For example, discharges to the sewer system partly reach the surface water after treatment in wastewater treatment plants.\n",
    "\n",
    "Factors like:\n",
    "1- Total origin emissions on water\n",
    "2- Agriculture, forestry and fishing\n",
    "3- Industry (no construction), energy\n",
    "4- Chemistry and pharmaceutical\n",
    "\n",
    "A group of metals with a high atomic weight. This concerns, in particular, the metals with a high toxicity purpose, such as arsenic, cadmium, chromium, copper, mercury, nickel, lead and zinc."
   ]
  },
  {
   "cell_type": "markdown",
   "id": "23b52b4d-edbc-4b60-8b41-a18cd5d49df3",
   "metadata": {},
   "source": [
    "# Load Data"
   ]
  },
  {
   "cell_type": "markdown",
   "id": "97c991dd-e395-4134-9fe8-7fb2651f3eb1",
   "metadata": {},
   "source": [
    "### Read data from datasource"
   ]
  },
  {
   "cell_type": "code",
   "execution_count": 2,
   "id": "5ffb8095-80c1-4f72-9af2-c31f60d5592e",
   "metadata": {},
   "outputs": [],
   "source": [
    "_database = '../data/data.sqlite'"
   ]
  },
  {
   "cell_type": "code",
   "execution_count": 3,
   "id": "2e6de013-2106-455b-949a-a9bf8c6e72c7",
   "metadata": {},
   "outputs": [],
   "source": [
    "# If database doesn't exist, run datapipeline to create it\n",
    "if not os.path.exists(_database):\n",
    "    subprocess.run([\"python\", \"../project/pipeline.py\"])\n",
    "\n",
    "# Load data from database\n",
    "engine = create_engine(f'sqlite:///{_database}')\n",
    "connection = engine.connect()\n",
    "\n",
    "df_vegetable = pd.read_sql_table('vegetable', connection,index_col='Vegetables')\n",
    "df_water = pd.read_sql_table('water', connection, index_col='Origin')"
   ]
  },
  {
   "cell_type": "markdown",
   "id": "8f94ca4c-fbc1-4a7d-a021-8fcf605608af",
   "metadata": {},
   "source": [
    "## `1 - Vegetable Data`"
   ]
  },
  {
   "cell_type": "code",
   "execution_count": 4,
   "id": "b655193a-0dd7-400c-98fa-3954de7cf7ea",
   "metadata": {},
   "outputs": [],
   "source": [
    "# df_vegetable.reset_index()"
   ]
  },
  {
   "cell_type": "code",
   "execution_count": 5,
   "id": "73074ca1-3642-4846-bc8d-ded9e559f3a4",
   "metadata": {},
   "outputs": [],
   "source": [
    "# df_vegetable"
   ]
  },
  {
   "cell_type": "code",
   "execution_count": 6,
   "id": "63601320-4bc2-4945-9db6-542803fa0a83",
   "metadata": {},
   "outputs": [],
   "source": [
    "# # Method 1 (works):\n",
    "# df_vegetable.loc[df_vegetable['year'] == 2010]\n",
    "\n",
    "# # Method 2 (works):\n",
    "# # df_vegetable[df_vegetable['year'] == 2010]"
   ]
  },
  {
   "cell_type": "code",
   "execution_count": 17,
   "id": "f59c0b75-2ada-4d85-b567-8aed80b1d651",
   "metadata": {},
   "outputs": [
    {
     "data": {
      "text/plain": [
       "Index(['year', 'gross_yield_million_kilogram'], dtype='object')"
      ]
     },
     "execution_count": 17,
     "metadata": {},
     "output_type": "execute_result"
    }
   ],
   "source": [
    " df_vegetable.columns"
   ]
  },
  {
   "cell_type": "code",
   "execution_count": 8,
   "id": "6d37ebd4-e861-4bcd-94a6-f05f73fb241a",
   "metadata": {},
   "outputs": [
    {
     "data": {
      "text/plain": [
       "'Vegetables'"
      ]
     },
     "execution_count": 8,
     "metadata": {},
     "output_type": "execute_result"
    }
   ],
   "source": [
    "df_vegetable.index.name"
   ]
  },
  {
   "cell_type": "code",
   "execution_count": 9,
   "id": "59743b23-897b-4c10-8082-4e1335d3cfe3",
   "metadata": {},
   "outputs": [
    {
     "data": {
      "text/plain": [
       "Index(['Onion/Garlic', 'Strawberry', 'Spinach', 'Belgian endive', 'Lettuce',\n",
       "       'Iceberg', 'Tuberous', 'Radishes', 'Carrot', 'Cabbage', 'Legume',\n",
       "       'Bean', 'Apple', 'Courgette'],\n",
       "      dtype='object', name='Vegetables')"
      ]
     },
     "execution_count": 9,
     "metadata": {},
     "output_type": "execute_result"
    }
   ],
   "source": [
    "df_vegetable.index.unique()"
   ]
  },
  {
   "cell_type": "code",
   "execution_count": 18,
   "id": "930771a9-ffc8-44fd-b08c-10ab894135a2",
   "metadata": {},
   "outputs": [
    {
     "data": {
      "text/plain": [
       "array([1998, 2000, 2005, 2006, 2010, 2015, 2020, 2021, 2022], dtype=int64)"
      ]
     },
     "execution_count": 18,
     "metadata": {},
     "output_type": "execute_result"
    }
   ],
   "source": [
    "df_vegetable.year.unique()"
   ]
  },
  {
   "cell_type": "markdown",
   "id": "c93312f5-5ea1-4bf2-a60a-12fc8e00fc3b",
   "metadata": {},
   "source": [
    "## Overall"
   ]
  },
  {
   "cell_type": "code",
   "execution_count": 10,
   "id": "7aa2a69a-fd92-494c-8205-543e6196d3e8",
   "metadata": {},
   "outputs": [],
   "source": [
    "# #  X-axis : Year (df_vegetable.year)\n",
    "# #  Y-axis: Names of vegetables (df_vegetable.index)\n",
    "# # df_vegetable.loc[df_vegetable.index == 'Onion/Garlic'\n",
    "# plt.plot(df_vegetable.year, df_vegetable.index, 'o-')\n",
    "# plt.title('New registrations of cars in germany (per year)')\n",
    "# plt.legend(df_vegetable.columns)\n",
    "# plt.show()"
   ]
  },
  {
   "cell_type": "markdown",
   "id": "76f310fe-1df4-47a8-9e6a-a5b69832b2c8",
   "metadata": {},
   "source": [
    "## 1.1 - Filter Data"
   ]
  },
  {
   "cell_type": "markdown",
   "id": "bf584361-bc99-47d5-a515-7a2cad4a94cb",
   "metadata": {},
   "source": [
    "## 1.1.1 - By year"
   ]
  },
  {
   "cell_type": "code",
   "execution_count": 94,
   "id": "31a1269d-c1fa-4e0a-a355-3a5223ad1a20",
   "metadata": {},
   "outputs": [
    {
     "ename": "AttributeError",
     "evalue": "Can only use .str accessor with string values!",
     "output_type": "error",
     "traceback": [
      "\u001b[1;31m---------------------------------------------------------------------------\u001b[0m",
      "\u001b[1;31mAttributeError\u001b[0m                            Traceback (most recent call last)",
      "Cell \u001b[1;32mIn[94], line 1\u001b[0m\n\u001b[1;32m----> 1\u001b[0m df_vegetable[\u001b[38;5;124m\"\u001b[39m\u001b[38;5;124mgross_yield_million_kilogram\u001b[39m\u001b[38;5;124m\"\u001b[39m] \u001b[38;5;241m=\u001b[39m  \u001b[43mdf_vegetable\u001b[49m\u001b[43m[\u001b[49m\u001b[38;5;124;43m\"\u001b[39;49m\u001b[38;5;124;43mgross_yield_million_kilogram\u001b[39;49m\u001b[38;5;124;43m\"\u001b[39;49m\u001b[43m]\u001b[49m\u001b[38;5;241;43m.\u001b[39;49m\u001b[43mstr\u001b[49m\u001b[38;5;241m.\u001b[39mreplace(\u001b[38;5;124m'\u001b[39m\u001b[38;5;124m,\u001b[39m\u001b[38;5;124m'\u001b[39m,\u001b[38;5;124m'\u001b[39m\u001b[38;5;124m.\u001b[39m\u001b[38;5;124m'\u001b[39m)\n",
      "File \u001b[1;32mc:\\Users\\butt\\AppData\\Local\\anaconda3\\envs\\myenv\\Lib\\site-packages\\pandas\\core\\generic.py:5902\u001b[0m, in \u001b[0;36mNDFrame.__getattr__\u001b[1;34m(self, name)\u001b[0m\n\u001b[0;32m   5895\u001b[0m \u001b[38;5;28;01mif\u001b[39;00m (\n\u001b[0;32m   5896\u001b[0m     name \u001b[38;5;129;01mnot\u001b[39;00m \u001b[38;5;129;01min\u001b[39;00m \u001b[38;5;28mself\u001b[39m\u001b[38;5;241m.\u001b[39m_internal_names_set\n\u001b[0;32m   5897\u001b[0m     \u001b[38;5;129;01mand\u001b[39;00m name \u001b[38;5;129;01mnot\u001b[39;00m \u001b[38;5;129;01min\u001b[39;00m \u001b[38;5;28mself\u001b[39m\u001b[38;5;241m.\u001b[39m_metadata\n\u001b[0;32m   5898\u001b[0m     \u001b[38;5;129;01mand\u001b[39;00m name \u001b[38;5;129;01mnot\u001b[39;00m \u001b[38;5;129;01min\u001b[39;00m \u001b[38;5;28mself\u001b[39m\u001b[38;5;241m.\u001b[39m_accessors\n\u001b[0;32m   5899\u001b[0m     \u001b[38;5;129;01mand\u001b[39;00m \u001b[38;5;28mself\u001b[39m\u001b[38;5;241m.\u001b[39m_info_axis\u001b[38;5;241m.\u001b[39m_can_hold_identifiers_and_holds_name(name)\n\u001b[0;32m   5900\u001b[0m ):\n\u001b[0;32m   5901\u001b[0m     \u001b[38;5;28;01mreturn\u001b[39;00m \u001b[38;5;28mself\u001b[39m[name]\n\u001b[1;32m-> 5902\u001b[0m \u001b[38;5;28;01mreturn\u001b[39;00m \u001b[38;5;28;43mobject\u001b[39;49m\u001b[38;5;241;43m.\u001b[39;49m\u001b[38;5;21;43m__getattribute__\u001b[39;49m\u001b[43m(\u001b[49m\u001b[38;5;28;43mself\u001b[39;49m\u001b[43m,\u001b[49m\u001b[43m \u001b[49m\u001b[43mname\u001b[49m\u001b[43m)\u001b[49m\n",
      "File \u001b[1;32mc:\\Users\\butt\\AppData\\Local\\anaconda3\\envs\\myenv\\Lib\\site-packages\\pandas\\core\\accessor.py:182\u001b[0m, in \u001b[0;36mCachedAccessor.__get__\u001b[1;34m(self, obj, cls)\u001b[0m\n\u001b[0;32m    179\u001b[0m \u001b[38;5;28;01mif\u001b[39;00m obj \u001b[38;5;129;01mis\u001b[39;00m \u001b[38;5;28;01mNone\u001b[39;00m:\n\u001b[0;32m    180\u001b[0m     \u001b[38;5;66;03m# we're accessing the attribute of the class, i.e., Dataset.geo\u001b[39;00m\n\u001b[0;32m    181\u001b[0m     \u001b[38;5;28;01mreturn\u001b[39;00m \u001b[38;5;28mself\u001b[39m\u001b[38;5;241m.\u001b[39m_accessor\n\u001b[1;32m--> 182\u001b[0m accessor_obj \u001b[38;5;241m=\u001b[39m \u001b[38;5;28;43mself\u001b[39;49m\u001b[38;5;241;43m.\u001b[39;49m\u001b[43m_accessor\u001b[49m\u001b[43m(\u001b[49m\u001b[43mobj\u001b[49m\u001b[43m)\u001b[49m\n\u001b[0;32m    183\u001b[0m \u001b[38;5;66;03m# Replace the property with the accessor object. Inspired by:\u001b[39;00m\n\u001b[0;32m    184\u001b[0m \u001b[38;5;66;03m# https://www.pydanny.com/cached-property.html\u001b[39;00m\n\u001b[0;32m    185\u001b[0m \u001b[38;5;66;03m# We need to use object.__setattr__ because we overwrite __setattr__ on\u001b[39;00m\n\u001b[0;32m    186\u001b[0m \u001b[38;5;66;03m# NDFrame\u001b[39;00m\n\u001b[0;32m    187\u001b[0m \u001b[38;5;28mobject\u001b[39m\u001b[38;5;241m.\u001b[39m\u001b[38;5;21m__setattr__\u001b[39m(obj, \u001b[38;5;28mself\u001b[39m\u001b[38;5;241m.\u001b[39m_name, accessor_obj)\n",
      "File \u001b[1;32mc:\\Users\\butt\\AppData\\Local\\anaconda3\\envs\\myenv\\Lib\\site-packages\\pandas\\core\\strings\\accessor.py:181\u001b[0m, in \u001b[0;36mStringMethods.__init__\u001b[1;34m(self, data)\u001b[0m\n\u001b[0;32m    178\u001b[0m \u001b[38;5;28;01mdef\u001b[39;00m \u001b[38;5;21m__init__\u001b[39m(\u001b[38;5;28mself\u001b[39m, data) \u001b[38;5;241m-\u001b[39m\u001b[38;5;241m>\u001b[39m \u001b[38;5;28;01mNone\u001b[39;00m:\n\u001b[0;32m    179\u001b[0m     \u001b[38;5;28;01mfrom\u001b[39;00m \u001b[38;5;21;01mpandas\u001b[39;00m\u001b[38;5;21;01m.\u001b[39;00m\u001b[38;5;21;01mcore\u001b[39;00m\u001b[38;5;21;01m.\u001b[39;00m\u001b[38;5;21;01marrays\u001b[39;00m\u001b[38;5;21;01m.\u001b[39;00m\u001b[38;5;21;01mstring_\u001b[39;00m \u001b[38;5;28;01mimport\u001b[39;00m StringDtype\n\u001b[1;32m--> 181\u001b[0m     \u001b[38;5;28mself\u001b[39m\u001b[38;5;241m.\u001b[39m_inferred_dtype \u001b[38;5;241m=\u001b[39m \u001b[38;5;28;43mself\u001b[39;49m\u001b[38;5;241;43m.\u001b[39;49m\u001b[43m_validate\u001b[49m\u001b[43m(\u001b[49m\u001b[43mdata\u001b[49m\u001b[43m)\u001b[49m\n\u001b[0;32m    182\u001b[0m     \u001b[38;5;28mself\u001b[39m\u001b[38;5;241m.\u001b[39m_is_categorical \u001b[38;5;241m=\u001b[39m is_categorical_dtype(data\u001b[38;5;241m.\u001b[39mdtype)\n\u001b[0;32m    183\u001b[0m     \u001b[38;5;28mself\u001b[39m\u001b[38;5;241m.\u001b[39m_is_string \u001b[38;5;241m=\u001b[39m \u001b[38;5;28misinstance\u001b[39m(data\u001b[38;5;241m.\u001b[39mdtype, StringDtype)\n",
      "File \u001b[1;32mc:\\Users\\butt\\AppData\\Local\\anaconda3\\envs\\myenv\\Lib\\site-packages\\pandas\\core\\strings\\accessor.py:235\u001b[0m, in \u001b[0;36mStringMethods._validate\u001b[1;34m(data)\u001b[0m\n\u001b[0;32m    232\u001b[0m inferred_dtype \u001b[38;5;241m=\u001b[39m lib\u001b[38;5;241m.\u001b[39minfer_dtype(values, skipna\u001b[38;5;241m=\u001b[39m\u001b[38;5;28;01mTrue\u001b[39;00m)\n\u001b[0;32m    234\u001b[0m \u001b[38;5;28;01mif\u001b[39;00m inferred_dtype \u001b[38;5;129;01mnot\u001b[39;00m \u001b[38;5;129;01min\u001b[39;00m allowed_types:\n\u001b[1;32m--> 235\u001b[0m     \u001b[38;5;28;01mraise\u001b[39;00m \u001b[38;5;167;01mAttributeError\u001b[39;00m(\u001b[38;5;124m\"\u001b[39m\u001b[38;5;124mCan only use .str accessor with string values!\u001b[39m\u001b[38;5;124m\"\u001b[39m)\n\u001b[0;32m    236\u001b[0m \u001b[38;5;28;01mreturn\u001b[39;00m inferred_dtype\n",
      "\u001b[1;31mAttributeError\u001b[0m: Can only use .str accessor with string values!"
     ]
    }
   ],
   "source": [
    "df_vegetable[\"gross_yield_million_kilogram\"] =  df_vegetable[\"gross_yield_million_kilogram\"].str.replace(',','.')"
   ]
  },
  {
   "cell_type": "code",
   "execution_count": 95,
   "id": "e85090fc-92c7-40ec-8278-3a3f14aa12e0",
   "metadata": {},
   "outputs": [],
   "source": [
    "# Sorting by column 'gross_yield_million_kilogram'\n",
    "df_vegetable = df_vegetable.sort_values(by=['gross_yield_million_kilogram'], axis=0, ascending=True)"
   ]
  },
  {
   "cell_type": "code",
   "execution_count": 96,
   "id": "947bfb73-3eff-4bfa-b2ec-98536b049a6b",
   "metadata": {},
   "outputs": [],
   "source": [
    " df_vegetable[\"gross_yield_million_kilogram\"] = df_vegetable.gross_yield_million_kilogram.astype(float)"
   ]
  },
  {
   "cell_type": "code",
   "execution_count": 97,
   "id": "99a547d9-d71f-47c0-8990-f7021c30e27e",
   "metadata": {},
   "outputs": [
    {
     "data": {
      "text/plain": [
       "year                              int64\n",
       "gross_yield_million_kilogram    float64\n",
       "dtype: object"
      ]
     },
     "execution_count": 97,
     "metadata": {},
     "output_type": "execute_result"
    }
   ],
   "source": [
    "df_vegetable.dtypes"
   ]
  },
  {
   "cell_type": "code",
   "execution_count": 98,
   "id": "6f88eb8c-a84b-425a-92d0-1a6d1f26011a",
   "metadata": {},
   "outputs": [],
   "source": [
    "# fixed_year_1998[\"gross_yield_million_kilogram\"] = fixed_year_1998[\"gross_yield_million_kilogram\"].str.replace(',','.')\n",
    "# fixed_year_2000[\"gross_yield_million_kilogram\"] = fixed_year_2000[\"gross_yield_million_kilogram\"].str.replace(',','.')\n",
    "# fixed_year_2005[\"gross_yield_million_kilogram\"] = fixed_year_2005[\"gross_yield_million_kilogram\"].str.replace(',','.')\n",
    "# fixed_year_2006[\"gross_yield_million_kilogram\"] = fixed_year_2006[\"gross_yield_million_kilogram\"].str.replace(',','.')\n",
    "# fixed_year_2010[\"gross_yield_million_kilogram\"] = fixed_year_2010[\"gross_yield_million_kilogram\"].str.replace(',','.')\n",
    "# fixed_year_2015[\"gross_yield_million_kilogram\"] = fixed_year_2015[\"gross_yield_million_kilogram\"].str.replace(',','.')\n",
    "# fixed_year_2020[\"gross_yield_million_kilogram\"] = fixed_year_2020[\"gross_yield_million_kilogram\"].str.replace(',','.')\n",
    "# fixed_year_2021[\"gross_yield_million_kilogram\"] = fixed_year_2021[\"gross_yield_million_kilogram\"].str.replace(',','.')\n",
    "# # fixed_year_2022[\"gross_yield_million_kilogram\"] = fixed_year_2022[\"gross_yield_million_kilogram\"].str.replace(',','.')"
   ]
  },
  {
   "cell_type": "code",
   "execution_count": 99,
   "id": "035643b7-6cb1-4059-a92b-7507ec90d2be",
   "metadata": {},
   "outputs": [],
   "source": [
    "# # Method 1 (works): Select subset from dataframe\n",
    "fixed_year_1998 = df_vegetable.loc[df_vegetable['year'] == 1998]\n",
    "fixed_year_2000 = df_vegetable.loc[df_vegetable['year'] == 2000]\n",
    "fixed_year_2005 = df_vegetable.loc[df_vegetable['year'] == 2005]\n",
    "fixed_year_2006 = df_vegetable.loc[df_vegetable['year'] == 2006]\n",
    "fixed_year_2010 = df_vegetable.loc[df_vegetable['year'] == 2010]\n",
    "fixed_year_2015 = df_vegetable.loc[df_vegetable['year'] == 2015]\n",
    "fixed_year_2020 = df_vegetable.loc[df_vegetable['year'] == 2020]\n",
    "fixed_year_2021 = df_vegetable.loc[df_vegetable['year'] == 2021]\n",
    "fixed_year_2022 = df_vegetable.loc[df_vegetable['year'] == 2022]\n",
    "\n",
    "# # Method 2 (works):\n",
    "# # df_vegetable[df_vegetable['year'] == 2010]"
   ]
  },
  {
   "cell_type": "code",
   "execution_count": 100,
   "id": "e79a21fa-7d36-4a9e-ad73-1a3859c1689b",
   "metadata": {},
   "outputs": [],
   "source": [
    "# Sorting by column 'gross_yield_million_kilogram'\n",
    "# fixed_year = fixed_year.sort_values(by=['gross_yield_million_kilogram'], ascending=True)"
   ]
  },
  {
   "cell_type": "markdown",
   "id": "9824ebd8-43ef-467a-8702-dfa81aca7048",
   "metadata": {},
   "source": [
    "## 1.1.2 - By Index"
   ]
  },
  {
   "cell_type": "code",
   "execution_count": 101,
   "id": "10f39b69-cc9d-46e6-a713-d20be5195a7e",
   "metadata": {},
   "outputs": [],
   "source": [
    "# Filter data\n",
    "onion = df_vegetable.loc[df_vegetable.index == 'Onion/Garlic']\n",
    "Strawberry = df_vegetable.loc[df_vegetable.index == 'Strawberry']\n",
    "Spinach = df_vegetable.loc[df_vegetable.index == 'Spinach']\n",
    "Belgian_endive = df_vegetable.loc[df_vegetable.index == 'Belgian endive']\n",
    "Lettuce = df_vegetable.loc[df_vegetable.index == 'Lettuce']\n",
    "Iceberg = df_vegetable.loc[df_vegetable.index == 'Iceberg']\n",
    "Tuberous = df_vegetable.loc[df_vegetable.index == 'Tuberous']\n",
    "Radishes = df_vegetable.loc[df_vegetable.index == 'Radishes']\n",
    "Carrot = df_vegetable.loc[df_vegetable.index == 'Carrot']\n",
    "Cabbage = df_vegetable.loc[df_vegetable.index == 'Cabbage']\n",
    "Legume = df_vegetable.loc[df_vegetable.index == 'Legume']\n",
    "Bean = df_vegetable.loc[df_vegetable.index == 'Bean']\n",
    "Apple = df_vegetable.loc[df_vegetable.index == 'Apple']\n",
    "Courgette = df_vegetable.loc[df_vegetable.index == 'Courgette']"
   ]
  },
  {
   "cell_type": "markdown",
   "id": "acee7e47-a4f3-44bc-aff1-7592261bb955",
   "metadata": {},
   "source": [
    "## 1.2 Plotting"
   ]
  },
  {
   "cell_type": "markdown",
   "id": "e74faa5a-c60e-4543-bd8c-d67ef6234743",
   "metadata": {},
   "source": [
    "## 1.2.1 - Plot for all vegetables for a single fixed Year"
   ]
  },
  {
   "cell_type": "markdown",
   "id": "473c0a6f-b24f-4505-97ac-ff9b4ef3d4aa",
   "metadata": {},
   "source": [
    "### Year = 1998"
   ]
  },
  {
   "cell_type": "code",
   "execution_count": 107,
   "id": "64b7eb6d-3b59-4dfc-982e-c5de29a3f417",
   "metadata": {},
   "outputs": [
    {
     "data": {
      "text/html": [
       "<div>\n",
       "<style scoped>\n",
       "    .dataframe tbody tr th:only-of-type {\n",
       "        vertical-align: middle;\n",
       "    }\n",
       "\n",
       "    .dataframe tbody tr th {\n",
       "        vertical-align: top;\n",
       "    }\n",
       "\n",
       "    .dataframe thead th {\n",
       "        text-align: right;\n",
       "    }\n",
       "</style>\n",
       "<table border=\"1\" class=\"dataframe\">\n",
       "  <thead>\n",
       "    <tr style=\"text-align: right;\">\n",
       "      <th></th>\n",
       "      <th>year</th>\n",
       "      <th>gross_yield_million_kilogram</th>\n",
       "    </tr>\n",
       "    <tr>\n",
       "      <th>Vegetables</th>\n",
       "      <th></th>\n",
       "      <th></th>\n",
       "    </tr>\n",
       "  </thead>\n",
       "  <tbody>\n",
       "    <tr>\n",
       "      <th>Courgette</th>\n",
       "      <td>1998</td>\n",
       "      <td>11.0</td>\n",
       "    </tr>\n",
       "    <tr>\n",
       "      <th>Lettuce</th>\n",
       "      <td>1998</td>\n",
       "      <td>31.0</td>\n",
       "    </tr>\n",
       "    <tr>\n",
       "      <th>Strawberry</th>\n",
       "      <td>1998</td>\n",
       "      <td>35.9</td>\n",
       "    </tr>\n",
       "    <tr>\n",
       "      <th>Radishes</th>\n",
       "      <td>1998</td>\n",
       "      <td>45.0</td>\n",
       "    </tr>\n",
       "    <tr>\n",
       "      <th>Iceberg</th>\n",
       "      <td>1998</td>\n",
       "      <td>55.0</td>\n",
       "    </tr>\n",
       "    <tr>\n",
       "      <th>Belgian endive</th>\n",
       "      <td>1998</td>\n",
       "      <td>60.0</td>\n",
       "    </tr>\n",
       "    <tr>\n",
       "      <th>Bean</th>\n",
       "      <td>1998</td>\n",
       "      <td>69.0</td>\n",
       "    </tr>\n",
       "    <tr>\n",
       "      <th>Carrot</th>\n",
       "      <td>1998</td>\n",
       "      <td>104.0</td>\n",
       "    </tr>\n",
       "    <tr>\n",
       "      <th>Legume</th>\n",
       "      <td>1998</td>\n",
       "      <td>106.1</td>\n",
       "    </tr>\n",
       "    <tr>\n",
       "      <th>Spinach</th>\n",
       "      <td>1998</td>\n",
       "      <td>327.5</td>\n",
       "    </tr>\n",
       "    <tr>\n",
       "      <th>Cabbage</th>\n",
       "      <td>1998</td>\n",
       "      <td>334.5</td>\n",
       "    </tr>\n",
       "    <tr>\n",
       "      <th>Tuberous</th>\n",
       "      <td>1998</td>\n",
       "      <td>1004.0</td>\n",
       "    </tr>\n",
       "    <tr>\n",
       "      <th>Apple</th>\n",
       "      <td>1998</td>\n",
       "      <td>1253.0</td>\n",
       "    </tr>\n",
       "    <tr>\n",
       "      <th>Onion/Garlic</th>\n",
       "      <td>1998</td>\n",
       "      <td>3339.0</td>\n",
       "    </tr>\n",
       "  </tbody>\n",
       "</table>\n",
       "</div>"
      ],
      "text/plain": [
       "                year  gross_yield_million_kilogram\n",
       "Vegetables                                        \n",
       "Courgette       1998                          11.0\n",
       "Lettuce         1998                          31.0\n",
       "Strawberry      1998                          35.9\n",
       "Radishes        1998                          45.0\n",
       "Iceberg         1998                          55.0\n",
       "Belgian endive  1998                          60.0\n",
       "Bean            1998                          69.0\n",
       "Carrot          1998                         104.0\n",
       "Legume          1998                         106.1\n",
       "Spinach         1998                         327.5\n",
       "Cabbage         1998                         334.5\n",
       "Tuberous        1998                        1004.0\n",
       "Apple           1998                        1253.0\n",
       "Onion/Garlic    1998                        3339.0"
      ]
     },
     "execution_count": 107,
     "metadata": {},
     "output_type": "execute_result"
    }
   ],
   "source": [
    "# # Sorting by column 'gross_yield_million_kilogram'\n",
    "# fixed_year_1998 = fixed_year_1998.sort_values(by=['gross_yield_million_kilogram'], axis=0, ascending=True)\n",
    "# fixed_year_1998"
   ]
  },
  {
   "cell_type": "code",
   "execution_count": 106,
   "id": "e602f4cc-2a06-49c1-bbfe-4daba1bc3fa2",
   "metadata": {},
   "outputs": [
    {
     "data": {
      "text/plain": [
       "<function matplotlib.pyplot.show(close=None, block=None)>"
      ]
     },
     "execution_count": 106,
     "metadata": {},
     "output_type": "execute_result"
    },
    {
     "data": {
      "image/png": "[encoded data removed]",
      "text/plain": [
       "<Figure size 800x600 with 1 Axes>"
      ]
     },
     "metadata": {},
     "output_type": "display_data"
    }
   ],
   "source": [
    "plt.figure(figsize=(8, 6))\n",
    "plt.subplot(1, 1, 1)\n",
    "\n",
    "# X-axis: Names of vegetables (yearly.index)\n",
    "# Values: Yield in kilograms (yearly.gross_yield_million_kilogram)\n",
    "# Y-axis: Yield in kilograms (yearly.gross_yield_million_kilogram)\n",
    "plt.bar(fixed_year_1998.index, fixed_year_1998.gross_yield_million_kilogram,  0.4, label='gross_yield_million_kilogram')\n",
    "plt.legend()\n",
    "plt.title('Vegetables yield in year 2000')\n",
    "plt.ylabel('Gross yield')\n",
    "plt.xlabel('Vegetables')\n",
    "plt.xticks(rotation=49)\n",
    "# plt.xticks(yearly.year)\n",
    "# plt.xticks(df_water.Year.unique())\n",
    "plt.show"
   ]
  },
  {
   "cell_type": "markdown",
   "id": "d917e34e-3a42-4cde-9d62-e5dff781adba",
   "metadata": {},
   "source": [
    "### Year = 2000"
   ]
  },
  {
   "cell_type": "code",
   "execution_count": 109,
   "id": "eb2bf587-d137-4d75-82fd-174e06485637",
   "metadata": {},
   "outputs": [
    {
     "data": {
      "text/html": [
       "<div>\n",
       "<style scoped>\n",
       "    .dataframe tbody tr th:only-of-type {\n",
       "        vertical-align: middle;\n",
       "    }\n",
       "\n",
       "    .dataframe tbody tr th {\n",
       "        vertical-align: top;\n",
       "    }\n",
       "\n",
       "    .dataframe thead th {\n",
       "        text-align: right;\n",
       "    }\n",
       "</style>\n",
       "<table border=\"1\" class=\"dataframe\">\n",
       "  <thead>\n",
       "    <tr style=\"text-align: right;\">\n",
       "      <th></th>\n",
       "      <th>year</th>\n",
       "      <th>gross_yield_million_kilogram</th>\n",
       "    </tr>\n",
       "    <tr>\n",
       "      <th>Vegetables</th>\n",
       "      <th></th>\n",
       "      <th></th>\n",
       "    </tr>\n",
       "  </thead>\n",
       "  <tbody>\n",
       "    <tr>\n",
       "      <th>Courgette</th>\n",
       "      <td>2000</td>\n",
       "      <td>11.0</td>\n",
       "    </tr>\n",
       "    <tr>\n",
       "      <th>Lettuce</th>\n",
       "      <td>2000</td>\n",
       "      <td>22.0</td>\n",
       "    </tr>\n",
       "    <tr>\n",
       "      <th>Strawberry</th>\n",
       "      <td>2000</td>\n",
       "      <td>34.3</td>\n",
       "    </tr>\n",
       "    <tr>\n",
       "      <th>Radishes</th>\n",
       "      <td>2000</td>\n",
       "      <td>35.0</td>\n",
       "    </tr>\n",
       "    <tr>\n",
       "      <th>Iceberg</th>\n",
       "      <td>2000</td>\n",
       "      <td>50.0</td>\n",
       "    </tr>\n",
       "    <tr>\n",
       "      <th>Bean</th>\n",
       "      <td>2000</td>\n",
       "      <td>52.0</td>\n",
       "    </tr>\n",
       "    <tr>\n",
       "      <th>Belgian endive</th>\n",
       "      <td>2000</td>\n",
       "      <td>70.0</td>\n",
       "    </tr>\n",
       "    <tr>\n",
       "      <th>Legume</th>\n",
       "      <td>2000</td>\n",
       "      <td>93.0</td>\n",
       "    </tr>\n",
       "    <tr>\n",
       "      <th>Carrot</th>\n",
       "      <td>2000</td>\n",
       "      <td>132.0</td>\n",
       "    </tr>\n",
       "    <tr>\n",
       "      <th>Cabbage</th>\n",
       "      <td>2000</td>\n",
       "      <td>326.5</td>\n",
       "    </tr>\n",
       "    <tr>\n",
       "      <th>Spinach</th>\n",
       "      <td>2000</td>\n",
       "      <td>349.0</td>\n",
       "    </tr>\n",
       "    <tr>\n",
       "      <th>Apple</th>\n",
       "      <td>2000</td>\n",
       "      <td>1259.0</td>\n",
       "    </tr>\n",
       "    <tr>\n",
       "      <th>Tuberous</th>\n",
       "      <td>2000</td>\n",
       "      <td>1453.0</td>\n",
       "    </tr>\n",
       "    <tr>\n",
       "      <th>Onion/Garlic</th>\n",
       "      <td>2000</td>\n",
       "      <td>3814.8</td>\n",
       "    </tr>\n",
       "  </tbody>\n",
       "</table>\n",
       "</div>"
      ],
      "text/plain": [
       "                year  gross_yield_million_kilogram\n",
       "Vegetables                                        \n",
       "Courgette       2000                          11.0\n",
       "Lettuce         2000                          22.0\n",
       "Strawberry      2000                          34.3\n",
       "Radishes        2000                          35.0\n",
       "Iceberg         2000                          50.0\n",
       "Bean            2000                          52.0\n",
       "Belgian endive  2000                          70.0\n",
       "Legume          2000                          93.0\n",
       "Carrot          2000                         132.0\n",
       "Cabbage         2000                         326.5\n",
       "Spinach         2000                         349.0\n",
       "Apple           2000                        1259.0\n",
       "Tuberous        2000                        1453.0\n",
       "Onion/Garlic    2000                        3814.8"
      ]
     },
     "execution_count": 109,
     "metadata": {},
     "output_type": "execute_result"
    }
   ],
   "source": [
    "fixed_year_2000"
   ]
  },
  {
   "cell_type": "code",
   "execution_count": 108,
   "id": "34340c47-37f4-489f-8662-99ae25199dc0",
   "metadata": {},
   "outputs": [
    {
     "data": {
      "text/plain": [
       "<function matplotlib.pyplot.show(close=None, block=None)>"
      ]
     },
     "execution_count": 108,
     "metadata": {},
     "output_type": "execute_result"
    },
    {
     "data": {
      "image/png": "[encoded data removed]",
      "text/plain": [
       "<Figure size 800x600 with 1 Axes>"
      ]
     },
     "metadata": {},
     "output_type": "display_data"
    }
   ],
   "source": [
    "plt.figure(figsize=(8, 6))\n",
    "plt.subplot(1, 1, 1)\n",
    "\n",
    "# X-axis: Names of vegetables (yearly.index)\n",
    "# Values: Yield in kilograms (yearly.gross_yield_million_kilogram)\n",
    "# Y-axis: Yield in kilograms (yearly.gross_yield_million_kilogram)\n",
    "plt.bar(fixed_year_2000.index, fixed_year_2000.gross_yield_million_kilogram,  0.4, label='gross_yield_million_kilogram')\n",
    "plt.legend()\n",
    "plt.title('Vegetables yield in year 1998')\n",
    "plt.ylabel('Gross yield')\n",
    "plt.xlabel('Vegetables')\n",
    "plt.xticks(rotation=49)\n",
    "# plt.xticks(yearly.year)\n",
    "# plt.xticks(df_water.Year.unique())\n",
    "plt.show"
   ]
  },
  {
   "cell_type": "markdown",
   "id": "2a4920fe-e0bc-4faf-9544-994a9e9b37f8",
   "metadata": {},
   "source": [
    "## 1.2.2 - Plot of a single vegetable over the years"
   ]
  },
  {
   "cell_type": "code",
   "execution_count": 111,
   "id": "bc979f5a-6395-4e3a-a08f-a7b9613c8daa",
   "metadata": {},
   "outputs": [
    {
     "data": {
      "text/html": [
       "<div>\n",
       "<style scoped>\n",
       "    .dataframe tbody tr th:only-of-type {\n",
       "        vertical-align: middle;\n",
       "    }\n",
       "\n",
       "    .dataframe tbody tr th {\n",
       "        vertical-align: top;\n",
       "    }\n",
       "\n",
       "    .dataframe thead th {\n",
       "        text-align: right;\n",
       "    }\n",
       "</style>\n",
       "<table border=\"1\" class=\"dataframe\">\n",
       "  <thead>\n",
       "    <tr style=\"text-align: right;\">\n",
       "      <th></th>\n",
       "      <th>year</th>\n",
       "      <th>gross_yield_million_kilogram</th>\n",
       "    </tr>\n",
       "    <tr>\n",
       "      <th>Vegetables</th>\n",
       "      <th></th>\n",
       "      <th></th>\n",
       "    </tr>\n",
       "  </thead>\n",
       "  <tbody>\n",
       "    <tr>\n",
       "      <th>Onion/Garlic</th>\n",
       "      <td>1998</td>\n",
       "      <td>3339.0</td>\n",
       "    </tr>\n",
       "    <tr>\n",
       "      <th>Onion/Garlic</th>\n",
       "      <td>2000</td>\n",
       "      <td>3814.8</td>\n",
       "    </tr>\n",
       "    <tr>\n",
       "      <th>Onion/Garlic</th>\n",
       "      <td>2006</td>\n",
       "      <td>4151.2</td>\n",
       "    </tr>\n",
       "    <tr>\n",
       "      <th>Onion/Garlic</th>\n",
       "      <td>2005</td>\n",
       "      <td>4255.0</td>\n",
       "    </tr>\n",
       "    <tr>\n",
       "      <th>Onion/Garlic</th>\n",
       "      <td>2010</td>\n",
       "      <td>4626.8</td>\n",
       "    </tr>\n",
       "    <tr>\n",
       "      <th>Onion/Garlic</th>\n",
       "      <td>2022</td>\n",
       "      <td>4959.3</td>\n",
       "    </tr>\n",
       "    <tr>\n",
       "      <th>Onion/Garlic</th>\n",
       "      <td>2015</td>\n",
       "      <td>5095.3</td>\n",
       "    </tr>\n",
       "    <tr>\n",
       "      <th>Onion/Garlic</th>\n",
       "      <td>2020</td>\n",
       "      <td>5460.2</td>\n",
       "    </tr>\n",
       "    <tr>\n",
       "      <th>Onion/Garlic</th>\n",
       "      <td>2021</td>\n",
       "      <td>5781.1</td>\n",
       "    </tr>\n",
       "  </tbody>\n",
       "</table>\n",
       "</div>"
      ],
      "text/plain": [
       "              year  gross_yield_million_kilogram\n",
       "Vegetables                                      \n",
       "Onion/Garlic  1998                        3339.0\n",
       "Onion/Garlic  2000                        3814.8\n",
       "Onion/Garlic  2006                        4151.2\n",
       "Onion/Garlic  2005                        4255.0\n",
       "Onion/Garlic  2010                        4626.8\n",
       "Onion/Garlic  2022                        4959.3\n",
       "Onion/Garlic  2015                        5095.3\n",
       "Onion/Garlic  2020                        5460.2\n",
       "Onion/Garlic  2021                        5781.1"
      ]
     },
     "execution_count": 111,
     "metadata": {},
     "output_type": "execute_result"
    }
   ],
   "source": [
    "onion"
   ]
  },
  {
   "cell_type": "code",
   "execution_count": 110,
   "id": "ddb45b5a-1877-4994-a9ea-9570eaf2da0b",
   "metadata": {},
   "outputs": [
    {
     "data": {
      "image/png": "[encoded data removed]",
      "text/plain": [
       "<Figure size 640x480 with 1 Axes>"
      ]
     },
     "metadata": {},
     "output_type": "display_data"
    }
   ],
   "source": [
    "#  X-axis : Year (df_vegetable.year)\n",
    "#  Y-axis: Names of vegetables (df_vegetable.index)\n",
    "\n",
    "# plt.plot(df_vegetable.year, df_vegetable.index, 'o-')\n",
    "\n",
    "plt.plot(onion.year, onion.gross_yield_million_kilogram, 'o-')\n",
    "plt.title('Onion (per year)')\n",
    "plt.legend(df_vegetable.columns)\n",
    "plt.show()"
   ]
  },
  {
   "cell_type": "code",
   "execution_count": 116,
   "id": "0fd61b09-4692-4471-9241-40b222fa82fb",
   "metadata": {},
   "outputs": [],
   "source": [
    "# Sorting by column 'year'\n",
    "Strawberry = Strawberry.sort_values(by=['year'], axis=0, ascending=True)"
   ]
  },
  {
   "cell_type": "code",
   "execution_count": 118,
   "id": "a0d1628a-39d0-40ad-910e-4d58f918e855",
   "metadata": {},
   "outputs": [
    {
     "data": {
      "image/png": "[encoded data removed]",
      "text/plain": [
       "<Figure size 640x480 with 1 Axes>"
      ]
     },
     "metadata": {},
     "output_type": "display_data"
    }
   ],
   "source": [
    "fig, ax1 = plt.subplots()\n",
    "\n",
    "ax1.plot(Strawberry.year, Strawberry.gross_yield_million_kilogram, 'o-', color='purple')\n",
    "ax1.set_ylabel('Gross Yield')\n",
    "plt.show()"
   ]
  },
  {
   "cell_type": "code",
   "execution_count": 119,
   "id": "92393532-e11b-492e-b792-7a67591d19e5",
   "metadata": {},
   "outputs": [
    {
     "data": {
      "image/png": "[encoded data removed]",
      "text/plain": [
       "<Figure size 800x600 with 1 Axes>"
      ]
     },
     "metadata": {},
     "output_type": "display_data"
    }
   ],
   "source": [
    "plt.figure(figsize=(8, 6))\n",
    "plt.subplot(1, 1, 1)\n",
    "\n",
    "# X-axis: Years (Strawberry.year)\n",
    "# Values: Yield in kilograms Strawberry.gross_yield_million_kilogram\n",
    "# Y-axis: Yield in kilograms (Strawberry.gross_yield_million_kilogram\n",
    "plt.bar(Strawberry.year, Strawberry.gross_yield_million_kilogram,  0.4, label='gross_yield_million_kilogram', color='orange')\n",
    "plt.legend()\n",
    "plt.title('Strawberry yield over the years 1995-2022')\n",
    "plt.ylabel('Yield (in million kilograms)')\n",
    "plt.xticks(rotation=49)\n",
    "plt.show()"
   ]
  },
  {
   "cell_type": "code",
   "execution_count": 120,
   "id": "97605d9d-cb0f-4ce3-b946-95690413fcf9",
   "metadata": {},
   "outputs": [
    {
     "data": {
      "image/png": "[encoded data removed]",
      "text/plain": [
       "<Figure size 640x480 with 2 Axes>"
      ]
     },
     "metadata": {},
     "output_type": "display_data"
    }
   ],
   "source": [
    "fig, ax1 = plt.subplots()\n",
    "\n",
    "ax1.bar(Strawberry.year, Strawberry.gross_yield_million_kilogram,  0.4, label='gross_yield_million_kilogram', color='orange')\n",
    "plt.legend()\n",
    "plt.title('Strawberry yield over the years 1995-2022')\n",
    "plt.ylabel('Yield (in million kilograms)')\n",
    "plt.xticks(rotation=49)\n",
    "\n",
    "ax2 = ax1.twinx()\n",
    "\n",
    "ax2.plot(Strawberry.year, Strawberry.gross_yield_million_kilogram, 'o-', color='purple')\n",
    "ax2.set_ylabel('Gross Yield')\n",
    "\n",
    "# fig.tight_layout()\n",
    "plt.show()"
   ]
  },
  {
   "cell_type": "markdown",
   "id": "80b43651-1f52-4951-bd03-4d628f2702f0",
   "metadata": {},
   "source": [
    "## 1.2.3 - Plot by index"
   ]
  },
  {
   "cell_type": "code",
   "execution_count": null,
   "id": "2ae6e0f2-c628-4ae5-aefb-a5768986837f",
   "metadata": {},
   "outputs": [],
   "source": [
    "# TODO"
   ]
  },
  {
   "cell_type": "markdown",
   "id": "85230850-06d1-43cf-85cf-5933c4294e40",
   "metadata": {},
   "source": [
    "## 1.2.4 - Plot for comparison over the year"
   ]
  },
  {
   "cell_type": "code",
   "execution_count": null,
   "id": "e2104495-7033-4f53-a24b-f3d11f9941eb",
   "metadata": {},
   "outputs": [],
   "source": [
    "fig, ax1 = plt.subplots()\n",
    "\n",
    "ax1.bar(Strawberry.year, Strawberry.gross_yield_million_kilogram,  0.4, label='Strawberry', color='orange')\n",
    "ax1.bar(Apple.year+1, Apple.gross_yield_million_kilogram,  0.4, label='Apple', color='red')\n",
    "plt.legend(['Strawberry', 'Apple'])\n",
    "plt.title('Strawberry/Apple yield over the years 1995-2022')\n",
    "plt.ylabel('Yield (in million kilograms)')\n",
    "plt.xticks(rotation=49)\n",
    "\n",
    "# ax2 = ax1.twinx()\n",
    "\n",
    "# ax2.plot(Strawberry.year, pd.aveStrawberry.gross_yield_million_kilogram, 'o-', color='purple')\n",
    "# ax2.set_ylabel('Gross Yield')\n",
    "\n",
    "# fig.tight_layout()\n",
    "plt.show()"
   ]
  },
  {
   "cell_type": "markdown",
   "id": "bfce25cb-c816-4f0b-9ac4-6829ccde554b",
   "metadata": {},
   "source": [
    "## 2 - `Water Data`"
   ]
  },
  {
   "cell_type": "markdown",
   "id": "909a2a30-3780-448b-9fde-597e83db9961",
   "metadata": {},
   "source": [
    "## Confifgure "
   ]
  },
  {
   "cell_type": "code",
   "execution_count": null,
   "id": "99809abe-fc03-4b36-86d6-09fd29762b46",
   "metadata": {},
   "outputs": [],
   "source": [
    "df_water = df_water.reset_index()"
   ]
  },
  {
   "cell_type": "code",
   "execution_count": null,
   "id": "f9588ae1-83ec-451e-9bb0-e5701c662bb9",
   "metadata": {},
   "outputs": [],
   "source": [
    "df_water.columns"
   ]
  },
  {
   "cell_type": "code",
   "execution_count": null,
   "id": "b61ead4e-4e58-482e-b7ce-65983aff044e",
   "metadata": {},
   "outputs": [],
   "source": [
    "# df_water = df_water.set_index(['Origin', 'Year'])"
   ]
  },
  {
   "cell_type": "code",
   "execution_count": null,
   "id": "94a172b7-4bdd-4e50-a5d0-57edba98e384",
   "metadata": {},
   "outputs": [],
   "source": [
    "df_water.index"
   ]
  },
  {
   "cell_type": "code",
   "execution_count": null,
   "id": "4a119f02-2e15-474d-b39b-19ff45d5d30d",
   "metadata": {},
   "outputs": [],
   "source": [
    "df_water.year.unique()"
   ]
  },
  {
   "cell_type": "code",
   "execution_count": null,
   "id": "d823289e-9d07-41e1-88bf-ec4f7df9b0a1",
   "metadata": {},
   "outputs": [],
   "source": [
    "df_water = df_water.dropna(axis=0)"
   ]
  },
  {
   "cell_type": "code",
   "execution_count": null,
   "id": "d23310a0-7de5-491f-930c-90e1f874728b",
   "metadata": {},
   "outputs": [],
   "source": [
    "# df_water.index.name = \"Origin\""
   ]
  },
  {
   "cell_type": "code",
   "execution_count": null,
   "id": "0041b756-842c-4f23-9a38-6f6b7a1968bc",
   "metadata": {},
   "outputs": [],
   "source": [
    "# df_water = df_water.reset_index()"
   ]
  },
  {
   "cell_type": "code",
   "execution_count": null,
   "id": "f32baab4-7e29-430c-807f-402ad95ea912",
   "metadata": {},
   "outputs": [],
   "source": [
    "# df_water = df_water.dropna(axis=0)"
   ]
  },
  {
   "cell_type": "markdown",
   "id": "248d0c66-0c43-4c12-bd67-deb58060f783",
   "metadata": {},
   "source": [
    "## 2.1 - Filter data"
   ]
  },
  {
   "cell_type": "markdown",
   "id": "595e76ba-7af3-4cd8-af9f-fe162926ba81",
   "metadata": {},
   "source": [
    "## 2.1.1 - By year"
   ]
  },
  {
   "cell_type": "code",
   "execution_count": null,
   "id": "46253986-a6dc-40a2-9b24-fb94f979057e",
   "metadata": {},
   "outputs": [],
   "source": [
    "df_water[df_water['Year']==1995]"
   ]
  },
  {
   "cell_type": "code",
   "execution_count": null,
   "id": "9117690a-10cc-4bb2-a869-d211fde4ed21",
   "metadata": {},
   "outputs": [],
   "source": [
    "df_water[df_water['Year'] == 2000]"
   ]
  },
  {
   "cell_type": "code",
   "execution_count": null,
   "id": "96772d2d-eea0-4e4b-b8a6-1b8cf4db6cac",
   "metadata": {},
   "outputs": [],
   "source": [
    "df_water.loc[df_water['Year'] == 2014]"
   ]
  },
  {
   "cell_type": "markdown",
   "id": "a4303f46-c2de-425c-a9f7-d52de2cd2183",
   "metadata": {},
   "source": [
    "## 2.1.2 - By Column"
   ]
  },
  {
   "cell_type": "code",
   "execution_count": null,
   "id": "bf8c8661-53fc-4b09-851f-9d7d41d03b90",
   "metadata": {},
   "outputs": [],
   "source": [
    "Chromium = df_water.loc[df_water.Chromium == 'Chromium']"
   ]
  },
  {
   "cell_type": "code",
   "execution_count": null,
   "id": "97720925-2f07-46a6-8493-3084debb41db",
   "metadata": {},
   "outputs": [],
   "source": [
    "df_water.Chromium"
   ]
  },
  {
   "cell_type": "markdown",
   "id": "037b41c9-611f-4088-8a0b-9c3c212b86bc",
   "metadata": {},
   "source": [
    "## 2.1.3 - By Index"
   ]
  },
  {
   "cell_type": "code",
   "execution_count": null,
   "id": "b71a44e7-1195-4744-8158-354d3e6fde06",
   "metadata": {},
   "outputs": [],
   "source": [
    "df_water.index"
   ]
  },
  {
   "cell_type": "code",
   "execution_count": null,
   "id": "d65117da-21dd-4f55-9f91-797ab5cfcc93",
   "metadata": {},
   "outputs": [],
   "source": [
    "Industrial = df_water.loc[df_water.index == 'Industrial']"
   ]
  },
  {
   "cell_type": "code",
   "execution_count": null,
   "id": "293ac8c8-e34d-45c3-b9cb-468ef7f3d8d4",
   "metadata": {},
   "outputs": [],
   "source": [
    "Industrial"
   ]
  },
  {
   "cell_type": "code",
   "execution_count": null,
   "id": "e4e628b3-ec7a-4b44-81b4-6f10f4a24dda",
   "metadata": {},
   "outputs": [],
   "source": []
  },
  {
   "cell_type": "markdown",
   "id": "41cf346b-f760-4b09-bd9b-b2dea5fb9406",
   "metadata": {},
   "source": [
    "## 2.2 Plotting"
   ]
  },
  {
   "cell_type": "code",
   "execution_count": null,
   "id": "9aefc8d1-b502-46ec-bd58-04662fb5b5cb",
   "metadata": {},
   "outputs": [],
   "source": [
    "# plt.plot(df_water.year, df_water.index, 'o-')\n",
    "# plt.title('New registrations of cars in germany (per year)')\n",
    "# plt.legend(df_vegetable.columns)\n",
    "# plt.show()"
   ]
  },
  {
   "cell_type": "markdown",
   "id": "1b00d257-0a04-45ad-99fc-de74f4eaec50",
   "metadata": {},
   "source": [
    "## 2.2.1 - By year"
   ]
  },
  {
   "cell_type": "code",
   "execution_count": null,
   "id": "b6698254-663e-4dc5-bc28-ceac4f95e458",
   "metadata": {},
   "outputs": [],
   "source": []
  },
  {
   "cell_type": "markdown",
   "id": "f0e69779-5ccf-48a6-83f0-3ef0dc1f9386",
   "metadata": {},
   "source": [
    "## 2.2.2 - By Column"
   ]
  },
  {
   "cell_type": "code",
   "execution_count": null,
   "id": "316b5940-c52c-4157-a342-574a8c816cf3",
   "metadata": {},
   "outputs": [],
   "source": []
  },
  {
   "cell_type": "markdown",
   "id": "9c03411a-4465-4cf4-ae3d-938833698d1d",
   "metadata": {},
   "source": [
    "## 2.2.3 - By Index"
   ]
  },
  {
   "cell_type": "code",
   "execution_count": null,
   "id": "0695e5f2-36ad-4792-9658-14e01821d637",
   "metadata": {},
   "outputs": [],
   "source": []
  },
  {
   "cell_type": "markdown",
   "id": "9e2c0c0a-0cb0-4e6e-871c-ee6faf37e4b7",
   "metadata": {},
   "source": [
    "# Learning "
   ]
  },
  {
   "cell_type": "markdown",
   "id": "d2da73b5-468f-4a11-bc02-2f143e8cb650",
   "metadata": {},
   "source": [
    "### Selecting the product of Electronic Type \n",
    "\n",
    "Syntax 1:\n",
    "\n",
    "In case of string:\n",
    "\n",
    "df.loc[df[‘column_name’] <operator> operand]\n",
    "\n",
    "\n",
    "In case of integer/float: (no quotes)\n",
    "\n",
    "\n",
    "df.loc[df[‘column_name’] <operator> operand]\n"
   ]
  },
  {
   "cell_type": "markdown",
   "id": "cd74d558-df9f-436f-bfdf-3977260e446f",
   "metadata": {},
   "source": [
    "Parameters:\n",
    "\n",
    "df: represents data frame\n",
    "\n",
    "cname: represents column name\n",
    "\n",
    "condition: represents condition on which rows has to be selected"
   ]
  },
  {
   "cell_type": "markdown",
   "id": "1f5f0b77-9943-4245-9b59-b15ee8b556fe",
   "metadata": {},
   "source": [
    "Example:\n",
    "\n",
    "select_prod = df.loc[df['Type'] == 'Electronic'] \n",
    "\n",
    "df.loc[df['Price'] >= 25000] \n",
    "\n",
    "\n",
    "Syntax 2: \n",
    "\n",
    "data_fram[data_fram [ \"year\" ] == 2010]"
   ]
  },
  {
   "cell_type": "code",
   "execution_count": null,
   "id": "16bad167-2c8d-4eb7-a5f1-020eb39393c0",
   "metadata": {},
   "outputs": [],
   "source": [
    "# df_water[df_water['Chromium'].isnull()]"
   ]
  },
  {
   "cell_type": "code",
   "execution_count": null,
   "id": "8a9ff572-04d0-471d-a22c-fb8d43bafb6f",
   "metadata": {},
   "outputs": [],
   "source": [
    " # df_water.Year.unique()"
   ]
  },
  {
   "cell_type": "code",
   "execution_count": null,
   "id": "2943f5bf-d779-406c-8985-aadf63314c60",
   "metadata": {},
   "outputs": [],
   "source": [
    "# plt.figure(figsize=(10, 6))\n",
    "# plt.subplot(1, 1, 1)\n",
    "\n",
    "# plt.bar(X_axis-0.10, df_water.Chromium, 0.4, label='Chromium')\n",
    "# plt.bar(X_axis-0.6, df_water.Copper, 0.4, label='Copper')\n",
    "# # plt.bar(X_axis-0.3, df_water.Mercury, 0.4, label='Mercury')\n",
    "# # plt.bar(X_axis-0.0, df_water.Lead, 0.4, label='Lead')\n",
    "# # plt.bar(X_axis-0.5, df_water.Nickel, 0.4, label='Nickel')\n",
    "# # plt.bar(X_axis+0.8, df_water.Zinc, 0.4, label='Zinc')\n",
    "# # plt.bar(X_axis+0.12, df_water.Zinc, 0.4, label='OtherNutrients')\n",
    "# # plt.bar(X_axis+0.14, df_water.Zinc, 0.4, label='Phosphorus')\n",
    "\n",
    "# plt.legend()\n",
    "# plt.title('ELements emission')\n",
    "# plt.ylabel('Share')\n",
    "# plt.xticks(X_axis)\n",
    "# # plt.xticks(df_water.Year.unique())\n"
   ]
  },
  {
   "cell_type": "code",
   "execution_count": null,
   "id": "c3bac4eb-3f32-4617-a00f-fbaae0ded79c",
   "metadata": {},
   "outputs": [],
   "source": []
  }
 ],
 "metadata": {
  "kernelspec": {
   "display_name": "Python 3 (ipykernel)",
   "language": "python",
   "name": "python3"
  },
  "language_info": {
   "codemirror_mode": {
    "name": "ipython",
    "version": 3
   },
   "file_extension": ".py",
   "mimetype": "text/x-python",
   "name": "python",
   "nbconvert_exporter": "python",
   "pygments_lexer": "ipython3",
   "version": "3.11.5"
  }
 },
 "nbformat": 4,
 "nbformat_minor": 5
}
